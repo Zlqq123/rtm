{
 "metadata": {
  "language_info": {
   "codemirror_mode": {
    "name": "ipython",
    "version": 3
   },
   "file_extension": ".py",
   "mimetype": "text/x-python",
   "name": "python",
   "nbconvert_exporter": "python",
   "pygments_lexer": "ipython3",
   "version": "3.7.3-final"
  },
  "orig_nbformat": 2,
  "kernelspec": {
   "name": "python3",
   "display_name": "Python 3",
   "language": "python"
  }
 },
 "nbformat": 4,
 "nbformat_minor": 2,
 "cells": [
  {
   "cell_type": "code",
   "execution_count": 93,
   "metadata": {},
   "outputs": [],
   "source": [
    "import pandas as pd\n",
    "import numpy as np"
   ]
  },
  {
   "cell_type": "code",
   "execution_count": 94,
   "metadata": {},
   "outputs": [
    {
     "output_type": "stream",
     "name": "stdout",
     "text": [
      "<class 'pandas.core.frame.DataFrame'>\nRangeIndex: 3 entries, 0 to 2\nData columns (total 2 columns):\ncountry       3 non-null object\npopulation    3 non-null int64\ndtypes: int64(1), object(1)\nmemory usage: 128.0+ bytes\n"
     ]
    }
   ],
   "source": [
    "##创建dataframe\n",
    "data = {'country':['sa','ws','sw'],\n",
    "        'population':[12,23,12]}\n",
    "df_data = pd.DataFrame(data)\n",
    "df_data.info()"
   ]
  },
  {
   "cell_type": "code",
   "execution_count": 125,
   "metadata": {},
   "outputs": [
    {
     "output_type": "stream",
     "name": "stdout",
     "text": [
      "<class 'pandas.core.frame.DataFrame'>\nRangeIndex: 10886 entries, 0 to 10885\nData columns (total 12 columns):\ndatetime      10886 non-null object\nseason        10886 non-null int64\nholiday       10886 non-null int64\nworkingday    10886 non-null int64\nweather       10886 non-null int64\ntemp          10886 non-null float64\natemp         10886 non-null float64\nhumidity      10886 non-null int64\nwindspeed     10886 non-null float64\ncasual        10886 non-null int64\nregistered    10886 non-null int64\ncount         10886 non-null int64\ndtypes: float64(3), int64(8), object(1)\nmemory usage: 1020.6+ KB\n"
     ]
    },
    {
     "output_type": "execute_result",
     "data": {
      "text/plain": [
       "             season       holiday    workingday       weather         temp  \\\n",
       "count  10886.000000  10886.000000  10886.000000  10886.000000  10886.00000   \n",
       "mean       2.506614      0.028569      0.680875      1.418427     20.23086   \n",
       "std        1.116174      0.166599      0.466159      0.633839      7.79159   \n",
       "min        1.000000      0.000000      0.000000      1.000000      0.82000   \n",
       "25%        2.000000      0.000000      0.000000      1.000000     13.94000   \n",
       "50%        3.000000      0.000000      1.000000      1.000000     20.50000   \n",
       "75%        4.000000      0.000000      1.000000      2.000000     26.24000   \n",
       "max        4.000000      1.000000      1.000000      4.000000     41.00000   \n",
       "\n",
       "              atemp      humidity     windspeed        casual    registered  \\\n",
       "count  10886.000000  10886.000000  10886.000000  10886.000000  10886.000000   \n",
       "mean      23.655084     61.886460     12.799395     36.021955    155.552177   \n",
       "std        8.474601     19.245033      8.164537     49.960477    151.039033   \n",
       "min        0.760000      0.000000      0.000000      0.000000      0.000000   \n",
       "25%       16.665000     47.000000      7.001500      4.000000     36.000000   \n",
       "50%       24.240000     62.000000     12.998000     17.000000    118.000000   \n",
       "75%       31.060000     77.000000     16.997900     49.000000    222.000000   \n",
       "max       45.455000    100.000000     56.996900    367.000000    886.000000   \n",
       "\n",
       "              count  \n",
       "count  10886.000000  \n",
       "mean     191.574132  \n",
       "std      181.144454  \n",
       "min        1.000000  \n",
       "25%       42.000000  \n",
       "50%      145.000000  \n",
       "75%      284.000000  \n",
       "max      977.000000  "
      ],
      "text/html": "<div>\n<style scoped>\n    .dataframe tbody tr th:only-of-type {\n        vertical-align: middle;\n    }\n\n    .dataframe tbody tr th {\n        vertical-align: top;\n    }\n\n    .dataframe thead th {\n        text-align: right;\n    }\n</style>\n<table border=\"1\" class=\"dataframe\">\n  <thead>\n    <tr style=\"text-align: right;\">\n      <th></th>\n      <th>season</th>\n      <th>holiday</th>\n      <th>workingday</th>\n      <th>weather</th>\n      <th>temp</th>\n      <th>atemp</th>\n      <th>humidity</th>\n      <th>windspeed</th>\n      <th>casual</th>\n      <th>registered</th>\n      <th>count</th>\n    </tr>\n  </thead>\n  <tbody>\n    <tr>\n      <th>count</th>\n      <td>10886.000000</td>\n      <td>10886.000000</td>\n      <td>10886.000000</td>\n      <td>10886.000000</td>\n      <td>10886.00000</td>\n      <td>10886.000000</td>\n      <td>10886.000000</td>\n      <td>10886.000000</td>\n      <td>10886.000000</td>\n      <td>10886.000000</td>\n      <td>10886.000000</td>\n    </tr>\n    <tr>\n      <th>mean</th>\n      <td>2.506614</td>\n      <td>0.028569</td>\n      <td>0.680875</td>\n      <td>1.418427</td>\n      <td>20.23086</td>\n      <td>23.655084</td>\n      <td>61.886460</td>\n      <td>12.799395</td>\n      <td>36.021955</td>\n      <td>155.552177</td>\n      <td>191.574132</td>\n    </tr>\n    <tr>\n      <th>std</th>\n      <td>1.116174</td>\n      <td>0.166599</td>\n      <td>0.466159</td>\n      <td>0.633839</td>\n      <td>7.79159</td>\n      <td>8.474601</td>\n      <td>19.245033</td>\n      <td>8.164537</td>\n      <td>49.960477</td>\n      <td>151.039033</td>\n      <td>181.144454</td>\n    </tr>\n    <tr>\n      <th>min</th>\n      <td>1.000000</td>\n      <td>0.000000</td>\n      <td>0.000000</td>\n      <td>1.000000</td>\n      <td>0.82000</td>\n      <td>0.760000</td>\n      <td>0.000000</td>\n      <td>0.000000</td>\n      <td>0.000000</td>\n      <td>0.000000</td>\n      <td>1.000000</td>\n    </tr>\n    <tr>\n      <th>25%</th>\n      <td>2.000000</td>\n      <td>0.000000</td>\n      <td>0.000000</td>\n      <td>1.000000</td>\n      <td>13.94000</td>\n      <td>16.665000</td>\n      <td>47.000000</td>\n      <td>7.001500</td>\n      <td>4.000000</td>\n      <td>36.000000</td>\n      <td>42.000000</td>\n    </tr>\n    <tr>\n      <th>50%</th>\n      <td>3.000000</td>\n      <td>0.000000</td>\n      <td>1.000000</td>\n      <td>1.000000</td>\n      <td>20.50000</td>\n      <td>24.240000</td>\n      <td>62.000000</td>\n      <td>12.998000</td>\n      <td>17.000000</td>\n      <td>118.000000</td>\n      <td>145.000000</td>\n    </tr>\n    <tr>\n      <th>75%</th>\n      <td>4.000000</td>\n      <td>0.000000</td>\n      <td>1.000000</td>\n      <td>2.000000</td>\n      <td>26.24000</td>\n      <td>31.060000</td>\n      <td>77.000000</td>\n      <td>16.997900</td>\n      <td>49.000000</td>\n      <td>222.000000</td>\n      <td>284.000000</td>\n    </tr>\n    <tr>\n      <th>max</th>\n      <td>4.000000</td>\n      <td>1.000000</td>\n      <td>1.000000</td>\n      <td>4.000000</td>\n      <td>41.00000</td>\n      <td>45.455000</td>\n      <td>100.000000</td>\n      <td>56.996900</td>\n      <td>367.000000</td>\n      <td>886.000000</td>\n      <td>977.000000</td>\n    </tr>\n  </tbody>\n</table>\n</div>"
     },
     "metadata": {},
     "execution_count": 125
    }
   ],
   "source": [
    "import pandas as pd\n",
    "##读取\n",
    "df = pd.read_csv('train.csv')\n",
    "df.info()\n",
    "df =df.set_index('datetime') #设置索引\n",
    "df.head()\n",
    "df.describe()"
   ]
  },
  {
   "cell_type": "code",
   "execution_count": 97,
   "metadata": {},
   "outputs": [
    {
     "output_type": "stream",
     "name": "stdout",
     "text": [
      "Index(['2011-01-01 00:00:00', '2011-01-01 01:00:00', '2011-01-01 02:00:00',\n       '2011-01-01 03:00:00', '2011-01-01 04:00:00', '2011-01-01 05:00:00',\n       '2011-01-01 06:00:00', '2011-01-01 07:00:00', '2011-01-01 08:00:00',\n       '2011-01-01 09:00:00',\n       ...\n       '2012-12-19 14:00:00', '2012-12-19 15:00:00', '2012-12-19 16:00:00',\n       '2012-12-19 17:00:00', '2012-12-19 18:00:00', '2012-12-19 19:00:00',\n       '2012-12-19 20:00:00', '2012-12-19 21:00:00', '2012-12-19 22:00:00',\n       '2012-12-19 23:00:00'],\n      dtype='object', name='datetime', length=10886)\n[9.84 9.02 9.02 9.84 9.84]\ndatetime\n2011-01-01 00:00:00    9.84\n2011-01-01 01:00:00    9.02\n2011-01-01 02:00:00    9.02\n2011-01-01 03:00:00    9.84\n2011-01-01 04:00:00    9.84\nName: temp, dtype: float64\n41.0\n0.82\n20.230859819952173\n"
     ]
    }
   ],
   "source": [
    "#series 操作\n",
    "temp = df['temp']\n",
    "print(temp.index)\n",
    "print(temp.values[:5]) #得到ndarray\n",
    "print(temp[:5])\n",
    "print(temp.max())\n",
    "print(temp.min())\n",
    "print(temp.mean())"
   ]
  },
  {
   "cell_type": "code",
   "execution_count": 101,
   "metadata": {},
   "outputs": [
    {
     "output_type": "stream",
     "name": "stdout",
     "text": [
      "                     holiday  windspeed\ndatetime                               \n2011-01-03 11:00:00        0    22.0028\n2011-01-03 12:00:00        0    19.9995\n2011-01-03 13:00:00        0    19.0012\n2011-01-03 14:00:00        0    19.0012\n2011-01-03 15:00:00        0    16.9979\n2011-01-03 16:00:00        0    16.9979\n                     workingday  weather   temp\ndatetime                                       \n2011-01-01 23:00:00           0        2  18.86\n2011-01-02 00:00:00           0        2  18.86\n2011-01-02 01:00:00           0        2  18.04\n2011-01-02 02:00:00           0        2  17.22\n2011-01-02 03:00:00           0        2  18.86\n2011-01-02 04:00:00           0        2  18.86\nseason         1.000\nholiday        0.000\nworkingday     0.000\nweather        1.000\ntemp           9.020\natemp         13.635\nhumidity      80.000\nwindspeed      0.000\ncasual         8.000\nregistered    32.000\ncount         40.000\nName: 2011-01-01 01:00:00, dtype: float64\n                     season  holiday  workingday  weather  temp   atemp  \\\ndatetime                                                                  \n2011-01-01 01:00:00       1        0           0        1  9.02  13.635   \n2011-01-01 02:00:00       1        0           0        1  9.02  13.635   \n2011-01-01 03:00:00       1        0           0        1  9.84  14.395   \n2011-01-01 04:00:00       1        0           0        1  9.84  14.395   \n\n                     humidity  windspeed  casual  registered  count  \ndatetime                                                             \n2011-01-01 01:00:00        80        0.0       8          32     40  \n2011-01-01 02:00:00        80        0.0       5          27     32  \n2011-01-01 03:00:00        75        0.0       3          10     13  \n2011-01-01 04:00:00        75        0.0       0           1      1  \n"
     ]
    },
    {
     "output_type": "execute_result",
     "data": {
      "text/plain": [
       "                     season  holiday  workingday  weather  temp   atemp  \\\n",
       "datetime                                                                  \n",
       "2011-01-01 00:00:00       1        0           0        1  9.84  14.395   \n",
       "2011-01-01 01:00:00       1        0           0        1  9.02  13.635   \n",
       "2011-01-01 02:00:00       1        0           0        1  9.02  13.635   \n",
       "2011-01-01 03:00:00       0        0           0        1  9.84  14.395   \n",
       "2011-01-01 04:00:00       1        0           0        1  9.84  14.395   \n",
       "\n",
       "                     humidity  windspeed  casual  registered  count  \n",
       "datetime                                                             \n",
       "2011-01-01 00:00:00        81        0.0       3          13     16  \n",
       "2011-01-01 01:00:00        80        0.0       8          32     40  \n",
       "2011-01-01 02:00:00        80        0.0       5          27     32  \n",
       "2011-01-01 03:00:00        75        0.0       3          10     13  \n",
       "2011-01-01 04:00:00        75        0.0       0           1      1  "
      ],
      "text/html": "<div>\n<style scoped>\n    .dataframe tbody tr th:only-of-type {\n        vertical-align: middle;\n    }\n\n    .dataframe tbody tr th {\n        vertical-align: top;\n    }\n\n    .dataframe thead th {\n        text-align: right;\n    }\n</style>\n<table border=\"1\" class=\"dataframe\">\n  <thead>\n    <tr style=\"text-align: right;\">\n      <th></th>\n      <th>season</th>\n      <th>holiday</th>\n      <th>workingday</th>\n      <th>weather</th>\n      <th>temp</th>\n      <th>atemp</th>\n      <th>humidity</th>\n      <th>windspeed</th>\n      <th>casual</th>\n      <th>registered</th>\n      <th>count</th>\n    </tr>\n    <tr>\n      <th>datetime</th>\n      <th></th>\n      <th></th>\n      <th></th>\n      <th></th>\n      <th></th>\n      <th></th>\n      <th></th>\n      <th></th>\n      <th></th>\n      <th></th>\n      <th></th>\n    </tr>\n  </thead>\n  <tbody>\n    <tr>\n      <th>2011-01-01 00:00:00</th>\n      <td>1</td>\n      <td>0</td>\n      <td>0</td>\n      <td>1</td>\n      <td>9.84</td>\n      <td>14.395</td>\n      <td>81</td>\n      <td>0.0</td>\n      <td>3</td>\n      <td>13</td>\n      <td>16</td>\n    </tr>\n    <tr>\n      <th>2011-01-01 01:00:00</th>\n      <td>1</td>\n      <td>0</td>\n      <td>0</td>\n      <td>1</td>\n      <td>9.02</td>\n      <td>13.635</td>\n      <td>80</td>\n      <td>0.0</td>\n      <td>8</td>\n      <td>32</td>\n      <td>40</td>\n    </tr>\n    <tr>\n      <th>2011-01-01 02:00:00</th>\n      <td>1</td>\n      <td>0</td>\n      <td>0</td>\n      <td>1</td>\n      <td>9.02</td>\n      <td>13.635</td>\n      <td>80</td>\n      <td>0.0</td>\n      <td>5</td>\n      <td>27</td>\n      <td>32</td>\n    </tr>\n    <tr>\n      <th>2011-01-01 03:00:00</th>\n      <td>0</td>\n      <td>0</td>\n      <td>0</td>\n      <td>1</td>\n      <td>9.84</td>\n      <td>14.395</td>\n      <td>75</td>\n      <td>0.0</td>\n      <td>3</td>\n      <td>10</td>\n      <td>13</td>\n    </tr>\n    <tr>\n      <th>2011-01-01 04:00:00</th>\n      <td>1</td>\n      <td>0</td>\n      <td>0</td>\n      <td>1</td>\n      <td>9.84</td>\n      <td>14.395</td>\n      <td>75</td>\n      <td>0.0</td>\n      <td>0</td>\n      <td>1</td>\n      <td>1</td>\n    </tr>\n  </tbody>\n</table>\n</div>"
     },
     "metadata": {},
     "execution_count": 101
    }
   ],
   "source": [
    "##pandas 索引\n",
    "# 列索引，直接用列名\n",
    "print(df[['holiday','windspeed']][56:62])\n",
    "# loc 用label去定位\n",
    "# iloc 用位置定位\n",
    "print(df.iloc[23:29,2:5])\n",
    "print(df.loc['2011-01-01 01:00:00'])\n",
    "print(df.loc['2011-01-01 01:00:00':'2011-01-01 04:00:00'])\n",
    "#索引切片操作\n",
    "df.loc['2011-01-01 03:00:00','season']=0\n",
    "#赋值操作\n",
    "df.head()\n",
    "#布尔类型的索引\n",
    "print(df[df['atemp']>44])\n",
    "print(df.loc[df['season']==3,'temp'].mean())"
   ]
  },
  {
   "cell_type": "code",
   "execution_count": 104,
   "metadata": {},
   "outputs": [
    {
     "output_type": "stream",
     "name": "stdout",
     "text": [
      "4    0\n3    1\n2    2\n1    3\n0    4\ndtype: int64\n4    False\n3     True\n2    False\n1     True\n0     True\ndtype: bool\n3    1\n1    3\n0    4\ndtype: int64\n"
     ]
    }
   ],
   "source": [
    "s= pd.Series(np.arange(5),index=np.arange(5)[::-1],dtype='int64')\n",
    "print(s)\n",
    "print(s.isin([1,3,4]))\n",
    "print(s[s.isin([1,3,4])])"
   ]
  },
  {
   "cell_type": "code",
   "execution_count": 105,
   "metadata": {},
   "outputs": [
    {
     "output_type": "stream",
     "name": "stdout",
     "text": [
      "0  a    0\n   b    1\n   c    2\n1  a    3\n   b    4\n   c    5\ndtype: int32\n0  b    1\n1  a    3\ndtype: int32\n1    3\n0    4\ndtype: int64\n"
     ]
    }
   ],
   "source": [
    "s2=pd.Series (np.arange(6),index=pd.MultiIndex.from_product([[0,1],['a','b','c']]))\n",
    "#双重索引\n",
    "print(s2)\n",
    "print(s2.iloc[s2.index.isin([(1,'a'),(0,'b')])])\n",
    "print(s[s>2])"
   ]
  },
  {
   "cell_type": "code",
   "execution_count": 107,
   "metadata": {},
   "outputs": [
    {
     "output_type": "stream",
     "name": "stdout",
     "text": [
      "                   A         B         C         D\n2020-12-11 -0.688483  2.537343 -1.656600 -0.053319\n2020-12-12  0.681207  0.201327  0.275814 -2.174706\n2020-12-13  0.035336  1.805015 -0.518119 -0.689047\n2020-12-14  1.135417 -1.282389  0.598782 -0.160527\n2020-12-15  1.135393 -0.165288  0.575763  1.380130\n2020-12-16  0.511428 -0.424636  0.043098  0.603566\n2020-12-17 -1.312657 -0.756731 -0.680350  0.770799\n2020-12-18  2.182293 -1.974944  0.871750  0.133602\n                   A         B         C         D\n2020-12-11 -0.688483 -2.537343 -1.656600 -0.053319\n2020-12-12 -0.681207 -0.201327 -0.275814 -2.174706\n2020-12-13 -0.035336 -1.805015 -0.518119 -0.689047\n2020-12-14 -1.135417 -1.282389 -0.598782 -0.160527\n2020-12-15 -1.135393 -0.165288 -0.575763 -1.380130\n2020-12-16 -0.511428 -0.424636 -0.043098 -0.603566\n2020-12-17 -1.312657 -0.756731 -0.680350 -0.770799\n2020-12-18 -2.182293 -1.974944 -0.871750 -0.133602\n"
     ]
    }
   ],
   "source": [
    "dates = pd.date_range('20201211',periods=8)\n",
    "df = pd.DataFrame(np.random.randn(8,4), index = dates, columns = ['A','B','C','D'])\n",
    "print(df)\n",
    "print(df.where(df<0, -df))\n",
    "#小于0 的不动，大于0的取相反数"
   ]
  },
  {
   "cell_type": "code",
   "execution_count": 110,
   "metadata": {},
   "outputs": [
    {
     "output_type": "stream",
     "name": "stdout",
     "text": [
      "          a         b         c\n0 -2.226259 -0.046403  0.213395\n1  1.269405 -0.849122  0.155443\n2 -0.951632 -0.230373 -0.600612\n3 -0.648529  0.900086  0.477696\n4  0.686138  0.698752 -0.049762\n5 -0.244633 -0.763713  1.092095\n6 -1.389542 -0.790127  0.189747\n7 -1.296374  1.877385  0.587876\n8  0.449610  0.493403 -0.281801\n9  1.404916 -0.374161  0.876932\n          a         b         c\n1  1.269405 -0.849122  0.155443\n9  1.404916 -0.374161  0.876932\n"
     ]
    }
   ],
   "source": [
    "df = pd.DataFrame(np.random.randn(10,3), columns =list('abc'))\n",
    "print(df)\n",
    "print(df.query('(a>0) & (b<c)'))"
   ]
  },
  {
   "cell_type": "code",
   "execution_count": 122,
   "metadata": {},
   "outputs": [
    {
     "output_type": "stream",
     "name": "stdout",
     "text": [
      "  key  data\n0   A     3\n1   B    13\n2   C     4\n3   A     6\n4   B     2\n5   C     5\n6   A     3\n7   B     1\n8   C     7\n<pandas.core.groupby.generic.DataFrameGroupBy object at 0x00000223BFA8BDD8>\n     data\nkey      \nA      12\nB      16\nC      16\n"
     ]
    },
    {
     "output_type": "execute_result",
     "data": {
      "text/plain": [
       "     data\n",
       "key      \n",
       "A      12\n",
       "B      16\n",
       "C      16"
      ],
      "text/html": "<div>\n<style scoped>\n    .dataframe tbody tr th:only-of-type {\n        vertical-align: middle;\n    }\n\n    .dataframe tbody tr th {\n        vertical-align: top;\n    }\n\n    .dataframe thead th {\n        text-align: right;\n    }\n</style>\n<table border=\"1\" class=\"dataframe\">\n  <thead>\n    <tr style=\"text-align: right;\">\n      <th></th>\n      <th>data</th>\n    </tr>\n    <tr>\n      <th>key</th>\n      <th></th>\n    </tr>\n  </thead>\n  <tbody>\n    <tr>\n      <th>A</th>\n      <td>12</td>\n    </tr>\n    <tr>\n      <th>B</th>\n      <td>16</td>\n    </tr>\n    <tr>\n      <th>C</th>\n      <td>16</td>\n    </tr>\n  </tbody>\n</table>\n</div>"
     },
     "metadata": {},
     "execution_count": 122
    }
   ],
   "source": [
    "df = pd.DataFrame({'key':list('ABCABCABC'),\n",
    "                    'data':[3,13,4,6,2,5,3,1,7]})\n",
    "print(df)\n",
    "print(df.groupby('key'))\n",
    "print(df.groupby('key').sum())\n",
    "df.groupby('key').aggregate(np.sum)"
   ]
  },
  {
   "cell_type": "code",
   "execution_count": 138,
   "metadata": {},
   "outputs": [
    {
     "output_type": "stream",
     "name": "stdout",
     "text": [
      "   PassengerId  Survived  Pclass  \\\n0            1         0       3   \n1            2         1       1   \n2            3         1       3   \n3            4         1       1   \n4            5         0       3   \n\n                                                Name     Sex   Age  SibSp  \\\n0                            Braund, Mr. Owen Harris    male  22.0      1   \n1  Cumings, Mrs. John Bradley (Florence Briggs Th...  female  38.0      1   \n2                             Heikkinen, Miss. Laina  female  26.0      0   \n3       Futrelle, Mrs. Jacques Heath (Lily May Peel)  female  35.0      1   \n4                           Allen, Mr. William Henry    male  35.0      0   \n\n   Parch            Ticket     Fare Cabin Embarked  \n0      0         A/5 21171   7.2500   NaN        S  \n1      0          PC 17599  71.2833   C85        C  \n2      0  STON/O2. 3101282   7.9250   NaN        S  \n3      0            113803  53.1000  C123        S  \n4      0            373450   8.0500   NaN        S  \nSex\nfemale    27.915709\nmale      30.726645\nName: Age, dtype: float64\nSex\nfemale    0.742038\nmale      0.188908\nName: Survived, dtype: float64\n        PassengerId  Survived  Pclass  Name  Age  SibSp  Parch  Ticket  Fare  \\\nSex                                                                            \nfemale          314       314     314   314  261    314    314     314   314   \nmale            577       577     577   577  453    577    577     577   577   \n\n        Cabin  Embarked  \nSex                      \nfemale     97       312  \nmale      107       577  \n                 PassengerId  Survived  Pclass  Name  Age  SibSp  Parch  \\\nSex    Embarked                                                           \nfemale C                  73        73      73    73   61     73     73   \n       Q                  36        36      36    36   12     36     36   \n       S                 203       203     203   203  186    203    203   \nmale   C                  95        95      95    95   69     95     95   \n       Q                  41        41      41    41   16     41     41   \n       S                 441       441     441   441  368    441    441   \n\n                 Ticket  Fare  Cabin  \nSex    Embarked                       \nfemale C             73    73     37  \n       Q             36    36      2  \n       S            203   203     56  \nmale   C             95    95     32  \n       Q             41    41      2  \n       S            441   441     73  \n"
     ]
    }
   ],
   "source": [
    "df =pd.read_csv('titanic.csv')\n",
    "print(df.head())\n",
    "print(df.groupby('Sex')['Age'].mean())\n",
    "print(df.groupby('Sex')['Survived'].mean())\n",
    "\n"
   ]
  },
  {
   "cell_type": "code",
   "execution_count": 141,
   "metadata": {},
   "outputs": [
    {
     "output_type": "stream",
     "name": "stdout",
     "text": [
      "        PassengerId  Survived  Pclass  Name  Age  SibSp  Parch  Ticket  Fare  \\\nSex                                                                            \nfemale          314       314     314   314  261    314    314     314   314   \nmale            577       577     577   577  453    577    577     577   577   \n\n        Cabin  Embarked  \nSex                      \nfemale     97       312  \nmale      107       577  \n                 PassengerId  Survived  Pclass  Name  Age  SibSp  Parch  \\\nSex    Embarked                                                           \nfemale C                  73        73      73    73   61     73     73   \n       Q                  36        36      36    36   12     36     36   \n       S                 203       203     203   203  186    203    203   \nmale   C                  95        95      95    95   69     95     95   \n       Q                  41        41      41    41   16     41     41   \n       S                 441       441     441   441  368    441    441   \n\n                 Ticket  Fare  Cabin  \nSex    Embarked                       \nfemale C             73    73     37  \n       Q             36    36      2  \n       S            203   203     56  \nmale   C             95    95     32  \n       Q             41    41      2  \n       S            441   441     73  \n"
     ]
    },
    {
     "output_type": "execute_result",
     "data": {
      "text/plain": [
       "     PassengerId  Survived  Pclass  \\\n",
       "1              2         1       1   \n",
       "9             10         1       2   \n",
       "19            20         1       3   \n",
       "26            27         0       3   \n",
       "30            31         0       1   \n",
       "31            32         1       1   \n",
       "34            35         0       1   \n",
       "36            37         1       3   \n",
       "39            40         1       3   \n",
       "42            43         0       3   \n",
       "43            44         1       2   \n",
       "48            49         0       3   \n",
       "52            53         1       1   \n",
       "54            55         0       1   \n",
       "57            58         0       3   \n",
       "60            61         0       3   \n",
       "64            65         0       1   \n",
       "65            66         1       3   \n",
       "73            74         0       3   \n",
       "96            97         0       1   \n",
       "97            98         1       1   \n",
       "111          112         0       3   \n",
       "114          115         0       3   \n",
       "118          119         0       1   \n",
       "122          123         0       2   \n",
       "125          126         1       3   \n",
       "128          129         1       3   \n",
       "130          131         0       3   \n",
       "135          136         0       2   \n",
       "139          140         0       1   \n",
       "..           ...       ...     ...   \n",
       "716          717         1       1   \n",
       "731          732         0       3   \n",
       "737          738         1       1   \n",
       "742          743         1       1   \n",
       "762          763         1       3   \n",
       "766          767         0       1   \n",
       "773          774         0       3   \n",
       "780          781         1       3   \n",
       "789          790         0       1   \n",
       "793          794         0       1   \n",
       "798          799         0       3   \n",
       "803          804         1       3   \n",
       "817          818         0       2   \n",
       "827          828         1       2   \n",
       "830          831         1       3   \n",
       "832          833         0       3   \n",
       "835          836         1       1   \n",
       "839          840         1       1   \n",
       "842          843         1       1   \n",
       "843          844         0       3   \n",
       "847          848         0       3   \n",
       "849          850         1       1   \n",
       "852          853         0       3   \n",
       "858          859         1       3   \n",
       "859          860         0       3   \n",
       "866          867         1       2   \n",
       "874          875         1       2   \n",
       "875          876         1       3   \n",
       "879          880         1       1   \n",
       "889          890         1       1   \n",
       "\n",
       "                                                  Name     Sex    Age  SibSp  \\\n",
       "1    Cumings, Mrs. John Bradley (Florence Briggs Th...  female  38.00      1   \n",
       "9                  Nasser, Mrs. Nicholas (Adele Achem)  female  14.00      1   \n",
       "19                             Masselmani, Mrs. Fatima  female    NaN      0   \n",
       "26                             Emir, Mr. Farred Chehab    male    NaN      0   \n",
       "30                            Uruchurtu, Don. Manuel E    male  40.00      0   \n",
       "31      Spencer, Mrs. William Augustus (Marie Eugenie)  female    NaN      1   \n",
       "34                             Meyer, Mr. Edgar Joseph    male  28.00      1   \n",
       "36                                    Mamee, Mr. Hanna    male    NaN      0   \n",
       "39                         Nicola-Yarred, Miss. Jamila  female  14.00      1   \n",
       "42                                 Kraeff, Mr. Theodor    male    NaN      0   \n",
       "43            Laroche, Miss. Simonne Marie Anne Andree  female   3.00      1   \n",
       "48                                 Samaan, Mr. Youssef    male    NaN      2   \n",
       "52            Harper, Mrs. Henry Sleeper (Myna Haxtun)  female  49.00      1   \n",
       "54                      Ostby, Mr. Engelhart Cornelius    male  65.00      0   \n",
       "57                                 Novel, Mr. Mansouer    male  28.50      0   \n",
       "60                               Sirayanian, Mr. Orsen    male  22.00      0   \n",
       "64                               Stewart, Mr. Albert A    male    NaN      0   \n",
       "65                            Moubarek, Master. Gerios    male    NaN      1   \n",
       "73                         Chronopoulos, Mr. Apostolos    male  26.00      1   \n",
       "96                           Goldschmidt, Mr. George B    male  71.00      0   \n",
       "97                     Greenfield, Mr. William Bertram    male  23.00      0   \n",
       "111                               Zabour, Miss. Hileni  female  14.50      1   \n",
       "114                              Attalah, Miss. Malake  female  17.00      0   \n",
       "118                           Baxter, Mr. Quigg Edmond    male  24.00      0   \n",
       "122                               Nasser, Mr. Nicholas    male  32.50      1   \n",
       "125                       Nicola-Yarred, Master. Elias    male  12.00      1   \n",
       "128                                  Peter, Miss. Anna  female    NaN      1   \n",
       "130                               Drazenoic, Mr. Jozef    male  33.00      0   \n",
       "135                                 Richard, Mr. Emile    male  23.00      0   \n",
       "139                                 Giglio, Mr. Victor    male  24.00      0   \n",
       "..                                                 ...     ...    ...    ...   \n",
       "716                      Endres, Miss. Caroline Louise  female  38.00      0   \n",
       "731                           Hassan, Mr. Houssein G N    male  11.00      0   \n",
       "737                             Lesurer, Mr. Gustave J    male  35.00      0   \n",
       "742              Ryerson, Miss. Susan Parker \"Suzette\"  female  21.00      2   \n",
       "762                              Barah, Mr. Hanna Assi    male  20.00      0   \n",
       "766                          Brewe, Dr. Arthur Jackson    male    NaN      0   \n",
       "773                                    Elias, Mr. Dibo    male    NaN      0   \n",
       "780                               Ayoub, Miss. Banoura  female  13.00      0   \n",
       "789                           Guggenheim, Mr. Benjamin    male  46.00      0   \n",
       "793                           Hoyt, Mr. William Fisher    male    NaN      0   \n",
       "798                       Ibrahim Shawah, Mr. Yousseff    male  30.00      0   \n",
       "803                    Thomas, Master. Assad Alexander    male   0.42      0   \n",
       "817                                 Mallet, Mr. Albert    male  31.00      1   \n",
       "827                              Mallet, Master. Andre    male   1.00      0   \n",
       "830            Yasbeck, Mrs. Antoni (Selini Alexander)  female  15.00      1   \n",
       "832                                     Saad, Mr. Amin    male    NaN      0   \n",
       "835                        Compton, Miss. Sara Rebecca  female  39.00      1   \n",
       "839                               Marechal, Mr. Pierre    male    NaN      0   \n",
       "842                            Serepeca, Miss. Augusta  female  30.00      0   \n",
       "843                         Lemberopolous, Mr. Peter L    male  34.50      0   \n",
       "847                                 Markoff, Mr. Marin    male  35.00      0   \n",
       "849       Goldenberg, Mrs. Samuel L (Edwiga Grabowska)  female    NaN      1   \n",
       "852                            Boulos, Miss. Nourelain  female   9.00      1   \n",
       "858              Baclini, Mrs. Solomon (Latifa Qurban)  female  24.00      0   \n",
       "859                                   Razi, Mr. Raihed    male    NaN      0   \n",
       "866                       Duran y More, Miss. Asuncion  female  27.00      1   \n",
       "874              Abelson, Mrs. Samuel (Hannah Wizosky)  female  28.00      1   \n",
       "875                   Najib, Miss. Adele Kiamie \"Jane\"  female  15.00      0   \n",
       "879      Potter, Mrs. Thomas Jr (Lily Alexenia Wilson)  female  56.00      0   \n",
       "889                              Behr, Mr. Karl Howell    male  26.00      0   \n",
       "\n",
       "     Parch           Ticket      Fare            Cabin Embarked  \n",
       "1        0         PC 17599   71.2833              C85        C  \n",
       "9        0           237736   30.0708              NaN        C  \n",
       "19       0             2649    7.2250              NaN        C  \n",
       "26       0             2631    7.2250              NaN        C  \n",
       "30       0         PC 17601   27.7208              NaN        C  \n",
       "31       0         PC 17569  146.5208              B78        C  \n",
       "34       0         PC 17604   82.1708              NaN        C  \n",
       "36       0             2677    7.2292              NaN        C  \n",
       "39       0             2651   11.2417              NaN        C  \n",
       "42       0           349253    7.8958              NaN        C  \n",
       "43       2    SC/Paris 2123   41.5792              NaN        C  \n",
       "48       0             2662   21.6792              NaN        C  \n",
       "52       0         PC 17572   76.7292              D33        C  \n",
       "54       1           113509   61.9792              B30        C  \n",
       "57       0             2697    7.2292              NaN        C  \n",
       "60       0             2669    7.2292              NaN        C  \n",
       "64       0         PC 17605   27.7208              NaN        C  \n",
       "65       1             2661   15.2458              NaN        C  \n",
       "73       0             2680   14.4542              NaN        C  \n",
       "96       0         PC 17754   34.6542               A5        C  \n",
       "97       1         PC 17759   63.3583          D10 D12        C  \n",
       "111      0             2665   14.4542              NaN        C  \n",
       "114      0             2627   14.4583              NaN        C  \n",
       "118      1         PC 17558  247.5208          B58 B60        C  \n",
       "122      0           237736   30.0708              NaN        C  \n",
       "125      0             2651   11.2417              NaN        C  \n",
       "128      1             2668   22.3583            F E69        C  \n",
       "130      0           349241    7.8958              NaN        C  \n",
       "135      0    SC/PARIS 2133   15.0458              NaN        C  \n",
       "139      0         PC 17593   79.2000              B86        C  \n",
       "..     ...              ...       ...              ...      ...  \n",
       "716      0         PC 17757  227.5250              C45        C  \n",
       "731      0             2699   18.7875              NaN        C  \n",
       "737      0         PC 17755  512.3292             B101        C  \n",
       "742      2         PC 17608  262.3750  B57 B59 B63 B66        C  \n",
       "762      0             2663    7.2292              NaN        C  \n",
       "766      0           112379   39.6000              NaN        C  \n",
       "773      0             2674    7.2250              NaN        C  \n",
       "780      0             2687    7.2292              NaN        C  \n",
       "789      0         PC 17593   79.2000          B82 B84        C  \n",
       "793      0         PC 17600   30.6958              NaN        C  \n",
       "798      0             2685    7.2292              NaN        C  \n",
       "803      1             2625    8.5167              NaN        C  \n",
       "817      1  S.C./PARIS 2079   37.0042              NaN        C  \n",
       "827      2  S.C./PARIS 2079   37.0042              NaN        C  \n",
       "830      0             2659   14.4542              NaN        C  \n",
       "832      0             2671    7.2292              NaN        C  \n",
       "835      1         PC 17756   83.1583              E49        C  \n",
       "839      0            11774   29.7000              C47        C  \n",
       "842      0           113798   31.0000              NaN        C  \n",
       "843      0             2683    6.4375              NaN        C  \n",
       "847      0           349213    7.8958              NaN        C  \n",
       "849      0            17453   89.1042              C92        C  \n",
       "852      1             2678   15.2458              NaN        C  \n",
       "858      3             2666   19.2583              NaN        C  \n",
       "859      0             2629    7.2292              NaN        C  \n",
       "866      0    SC/PARIS 2149   13.8583              NaN        C  \n",
       "874      0        P/PP 3381   24.0000              NaN        C  \n",
       "875      0             2667    7.2250              NaN        C  \n",
       "879      1            11767   83.1583              C50        C  \n",
       "889      0           111369   30.0000             C148        C  \n",
       "\n",
       "[168 rows x 12 columns]"
      ],
      "text/html": "<div>\n<style scoped>\n    .dataframe tbody tr th:only-of-type {\n        vertical-align: middle;\n    }\n\n    .dataframe tbody tr th {\n        vertical-align: top;\n    }\n\n    .dataframe thead th {\n        text-align: right;\n    }\n</style>\n<table border=\"1\" class=\"dataframe\">\n  <thead>\n    <tr style=\"text-align: right;\">\n      <th></th>\n      <th>PassengerId</th>\n      <th>Survived</th>\n      <th>Pclass</th>\n      <th>Name</th>\n      <th>Sex</th>\n      <th>Age</th>\n      <th>SibSp</th>\n      <th>Parch</th>\n      <th>Ticket</th>\n      <th>Fare</th>\n      <th>Cabin</th>\n      <th>Embarked</th>\n    </tr>\n  </thead>\n  <tbody>\n    <tr>\n      <th>1</th>\n      <td>2</td>\n      <td>1</td>\n      <td>1</td>\n      <td>Cumings, Mrs. John Bradley (Florence Briggs Th...</td>\n      <td>female</td>\n      <td>38.00</td>\n      <td>1</td>\n      <td>0</td>\n      <td>PC 17599</td>\n      <td>71.2833</td>\n      <td>C85</td>\n      <td>C</td>\n    </tr>\n    <tr>\n      <th>9</th>\n      <td>10</td>\n      <td>1</td>\n      <td>2</td>\n      <td>Nasser, Mrs. Nicholas (Adele Achem)</td>\n      <td>female</td>\n      <td>14.00</td>\n      <td>1</td>\n      <td>0</td>\n      <td>237736</td>\n      <td>30.0708</td>\n      <td>NaN</td>\n      <td>C</td>\n    </tr>\n    <tr>\n      <th>19</th>\n      <td>20</td>\n      <td>1</td>\n      <td>3</td>\n      <td>Masselmani, Mrs. Fatima</td>\n      <td>female</td>\n      <td>NaN</td>\n      <td>0</td>\n      <td>0</td>\n      <td>2649</td>\n      <td>7.2250</td>\n      <td>NaN</td>\n      <td>C</td>\n    </tr>\n    <tr>\n      <th>26</th>\n      <td>27</td>\n      <td>0</td>\n      <td>3</td>\n      <td>Emir, Mr. Farred Chehab</td>\n      <td>male</td>\n      <td>NaN</td>\n      <td>0</td>\n      <td>0</td>\n      <td>2631</td>\n      <td>7.2250</td>\n      <td>NaN</td>\n      <td>C</td>\n    </tr>\n    <tr>\n      <th>30</th>\n      <td>31</td>\n      <td>0</td>\n      <td>1</td>\n      <td>Uruchurtu, Don. Manuel E</td>\n      <td>male</td>\n      <td>40.00</td>\n      <td>0</td>\n      <td>0</td>\n      <td>PC 17601</td>\n      <td>27.7208</td>\n      <td>NaN</td>\n      <td>C</td>\n    </tr>\n    <tr>\n      <th>31</th>\n      <td>32</td>\n      <td>1</td>\n      <td>1</td>\n      <td>Spencer, Mrs. William Augustus (Marie Eugenie)</td>\n      <td>female</td>\n      <td>NaN</td>\n      <td>1</td>\n      <td>0</td>\n      <td>PC 17569</td>\n      <td>146.5208</td>\n      <td>B78</td>\n      <td>C</td>\n    </tr>\n    <tr>\n      <th>34</th>\n      <td>35</td>\n      <td>0</td>\n      <td>1</td>\n      <td>Meyer, Mr. Edgar Joseph</td>\n      <td>male</td>\n      <td>28.00</td>\n      <td>1</td>\n      <td>0</td>\n      <td>PC 17604</td>\n      <td>82.1708</td>\n      <td>NaN</td>\n      <td>C</td>\n    </tr>\n    <tr>\n      <th>36</th>\n      <td>37</td>\n      <td>1</td>\n      <td>3</td>\n      <td>Mamee, Mr. Hanna</td>\n      <td>male</td>\n      <td>NaN</td>\n      <td>0</td>\n      <td>0</td>\n      <td>2677</td>\n      <td>7.2292</td>\n      <td>NaN</td>\n      <td>C</td>\n    </tr>\n    <tr>\n      <th>39</th>\n      <td>40</td>\n      <td>1</td>\n      <td>3</td>\n      <td>Nicola-Yarred, Miss. Jamila</td>\n      <td>female</td>\n      <td>14.00</td>\n      <td>1</td>\n      <td>0</td>\n      <td>2651</td>\n      <td>11.2417</td>\n      <td>NaN</td>\n      <td>C</td>\n    </tr>\n    <tr>\n      <th>42</th>\n      <td>43</td>\n      <td>0</td>\n      <td>3</td>\n      <td>Kraeff, Mr. Theodor</td>\n      <td>male</td>\n      <td>NaN</td>\n      <td>0</td>\n      <td>0</td>\n      <td>349253</td>\n      <td>7.8958</td>\n      <td>NaN</td>\n      <td>C</td>\n    </tr>\n    <tr>\n      <th>43</th>\n      <td>44</td>\n      <td>1</td>\n      <td>2</td>\n      <td>Laroche, Miss. Simonne Marie Anne Andree</td>\n      <td>female</td>\n      <td>3.00</td>\n      <td>1</td>\n      <td>2</td>\n      <td>SC/Paris 2123</td>\n      <td>41.5792</td>\n      <td>NaN</td>\n      <td>C</td>\n    </tr>\n    <tr>\n      <th>48</th>\n      <td>49</td>\n      <td>0</td>\n      <td>3</td>\n      <td>Samaan, Mr. Youssef</td>\n      <td>male</td>\n      <td>NaN</td>\n      <td>2</td>\n      <td>0</td>\n      <td>2662</td>\n      <td>21.6792</td>\n      <td>NaN</td>\n      <td>C</td>\n    </tr>\n    <tr>\n      <th>52</th>\n      <td>53</td>\n      <td>1</td>\n      <td>1</td>\n      <td>Harper, Mrs. Henry Sleeper (Myna Haxtun)</td>\n      <td>female</td>\n      <td>49.00</td>\n      <td>1</td>\n      <td>0</td>\n      <td>PC 17572</td>\n      <td>76.7292</td>\n      <td>D33</td>\n      <td>C</td>\n    </tr>\n    <tr>\n      <th>54</th>\n      <td>55</td>\n      <td>0</td>\n      <td>1</td>\n      <td>Ostby, Mr. Engelhart Cornelius</td>\n      <td>male</td>\n      <td>65.00</td>\n      <td>0</td>\n      <td>1</td>\n      <td>113509</td>\n      <td>61.9792</td>\n      <td>B30</td>\n      <td>C</td>\n    </tr>\n    <tr>\n      <th>57</th>\n      <td>58</td>\n      <td>0</td>\n      <td>3</td>\n      <td>Novel, Mr. Mansouer</td>\n      <td>male</td>\n      <td>28.50</td>\n      <td>0</td>\n      <td>0</td>\n      <td>2697</td>\n      <td>7.2292</td>\n      <td>NaN</td>\n      <td>C</td>\n    </tr>\n    <tr>\n      <th>60</th>\n      <td>61</td>\n      <td>0</td>\n      <td>3</td>\n      <td>Sirayanian, Mr. Orsen</td>\n      <td>male</td>\n      <td>22.00</td>\n      <td>0</td>\n      <td>0</td>\n      <td>2669</td>\n      <td>7.2292</td>\n      <td>NaN</td>\n      <td>C</td>\n    </tr>\n    <tr>\n      <th>64</th>\n      <td>65</td>\n      <td>0</td>\n      <td>1</td>\n      <td>Stewart, Mr. Albert A</td>\n      <td>male</td>\n      <td>NaN</td>\n      <td>0</td>\n      <td>0</td>\n      <td>PC 17605</td>\n      <td>27.7208</td>\n      <td>NaN</td>\n      <td>C</td>\n    </tr>\n    <tr>\n      <th>65</th>\n      <td>66</td>\n      <td>1</td>\n      <td>3</td>\n      <td>Moubarek, Master. Gerios</td>\n      <td>male</td>\n      <td>NaN</td>\n      <td>1</td>\n      <td>1</td>\n      <td>2661</td>\n      <td>15.2458</td>\n      <td>NaN</td>\n      <td>C</td>\n    </tr>\n    <tr>\n      <th>73</th>\n      <td>74</td>\n      <td>0</td>\n      <td>3</td>\n      <td>Chronopoulos, Mr. Apostolos</td>\n      <td>male</td>\n      <td>26.00</td>\n      <td>1</td>\n      <td>0</td>\n      <td>2680</td>\n      <td>14.4542</td>\n      <td>NaN</td>\n      <td>C</td>\n    </tr>\n    <tr>\n      <th>96</th>\n      <td>97</td>\n      <td>0</td>\n      <td>1</td>\n      <td>Goldschmidt, Mr. George B</td>\n      <td>male</td>\n      <td>71.00</td>\n      <td>0</td>\n      <td>0</td>\n      <td>PC 17754</td>\n      <td>34.6542</td>\n      <td>A5</td>\n      <td>C</td>\n    </tr>\n    <tr>\n      <th>97</th>\n      <td>98</td>\n      <td>1</td>\n      <td>1</td>\n      <td>Greenfield, Mr. William Bertram</td>\n      <td>male</td>\n      <td>23.00</td>\n      <td>0</td>\n      <td>1</td>\n      <td>PC 17759</td>\n      <td>63.3583</td>\n      <td>D10 D12</td>\n      <td>C</td>\n    </tr>\n    <tr>\n      <th>111</th>\n      <td>112</td>\n      <td>0</td>\n      <td>3</td>\n      <td>Zabour, Miss. Hileni</td>\n      <td>female</td>\n      <td>14.50</td>\n      <td>1</td>\n      <td>0</td>\n      <td>2665</td>\n      <td>14.4542</td>\n      <td>NaN</td>\n      <td>C</td>\n    </tr>\n    <tr>\n      <th>114</th>\n      <td>115</td>\n      <td>0</td>\n      <td>3</td>\n      <td>Attalah, Miss. Malake</td>\n      <td>female</td>\n      <td>17.00</td>\n      <td>0</td>\n      <td>0</td>\n      <td>2627</td>\n      <td>14.4583</td>\n      <td>NaN</td>\n      <td>C</td>\n    </tr>\n    <tr>\n      <th>118</th>\n      <td>119</td>\n      <td>0</td>\n      <td>1</td>\n      <td>Baxter, Mr. Quigg Edmond</td>\n      <td>male</td>\n      <td>24.00</td>\n      <td>0</td>\n      <td>1</td>\n      <td>PC 17558</td>\n      <td>247.5208</td>\n      <td>B58 B60</td>\n      <td>C</td>\n    </tr>\n    <tr>\n      <th>122</th>\n      <td>123</td>\n      <td>0</td>\n      <td>2</td>\n      <td>Nasser, Mr. Nicholas</td>\n      <td>male</td>\n      <td>32.50</td>\n      <td>1</td>\n      <td>0</td>\n      <td>237736</td>\n      <td>30.0708</td>\n      <td>NaN</td>\n      <td>C</td>\n    </tr>\n    <tr>\n      <th>125</th>\n      <td>126</td>\n      <td>1</td>\n      <td>3</td>\n      <td>Nicola-Yarred, Master. Elias</td>\n      <td>male</td>\n      <td>12.00</td>\n      <td>1</td>\n      <td>0</td>\n      <td>2651</td>\n      <td>11.2417</td>\n      <td>NaN</td>\n      <td>C</td>\n    </tr>\n    <tr>\n      <th>128</th>\n      <td>129</td>\n      <td>1</td>\n      <td>3</td>\n      <td>Peter, Miss. Anna</td>\n      <td>female</td>\n      <td>NaN</td>\n      <td>1</td>\n      <td>1</td>\n      <td>2668</td>\n      <td>22.3583</td>\n      <td>F E69</td>\n      <td>C</td>\n    </tr>\n    <tr>\n      <th>130</th>\n      <td>131</td>\n      <td>0</td>\n      <td>3</td>\n      <td>Drazenoic, Mr. Jozef</td>\n      <td>male</td>\n      <td>33.00</td>\n      <td>0</td>\n      <td>0</td>\n      <td>349241</td>\n      <td>7.8958</td>\n      <td>NaN</td>\n      <td>C</td>\n    </tr>\n    <tr>\n      <th>135</th>\n      <td>136</td>\n      <td>0</td>\n      <td>2</td>\n      <td>Richard, Mr. Emile</td>\n      <td>male</td>\n      <td>23.00</td>\n      <td>0</td>\n      <td>0</td>\n      <td>SC/PARIS 2133</td>\n      <td>15.0458</td>\n      <td>NaN</td>\n      <td>C</td>\n    </tr>\n    <tr>\n      <th>139</th>\n      <td>140</td>\n      <td>0</td>\n      <td>1</td>\n      <td>Giglio, Mr. Victor</td>\n      <td>male</td>\n      <td>24.00</td>\n      <td>0</td>\n      <td>0</td>\n      <td>PC 17593</td>\n      <td>79.2000</td>\n      <td>B86</td>\n      <td>C</td>\n    </tr>\n    <tr>\n      <th>...</th>\n      <td>...</td>\n      <td>...</td>\n      <td>...</td>\n      <td>...</td>\n      <td>...</td>\n      <td>...</td>\n      <td>...</td>\n      <td>...</td>\n      <td>...</td>\n      <td>...</td>\n      <td>...</td>\n      <td>...</td>\n    </tr>\n    <tr>\n      <th>716</th>\n      <td>717</td>\n      <td>1</td>\n      <td>1</td>\n      <td>Endres, Miss. Caroline Louise</td>\n      <td>female</td>\n      <td>38.00</td>\n      <td>0</td>\n      <td>0</td>\n      <td>PC 17757</td>\n      <td>227.5250</td>\n      <td>C45</td>\n      <td>C</td>\n    </tr>\n    <tr>\n      <th>731</th>\n      <td>732</td>\n      <td>0</td>\n      <td>3</td>\n      <td>Hassan, Mr. Houssein G N</td>\n      <td>male</td>\n      <td>11.00</td>\n      <td>0</td>\n      <td>0</td>\n      <td>2699</td>\n      <td>18.7875</td>\n      <td>NaN</td>\n      <td>C</td>\n    </tr>\n    <tr>\n      <th>737</th>\n      <td>738</td>\n      <td>1</td>\n      <td>1</td>\n      <td>Lesurer, Mr. Gustave J</td>\n      <td>male</td>\n      <td>35.00</td>\n      <td>0</td>\n      <td>0</td>\n      <td>PC 17755</td>\n      <td>512.3292</td>\n      <td>B101</td>\n      <td>C</td>\n    </tr>\n    <tr>\n      <th>742</th>\n      <td>743</td>\n      <td>1</td>\n      <td>1</td>\n      <td>Ryerson, Miss. Susan Parker \"Suzette\"</td>\n      <td>female</td>\n      <td>21.00</td>\n      <td>2</td>\n      <td>2</td>\n      <td>PC 17608</td>\n      <td>262.3750</td>\n      <td>B57 B59 B63 B66</td>\n      <td>C</td>\n    </tr>\n    <tr>\n      <th>762</th>\n      <td>763</td>\n      <td>1</td>\n      <td>3</td>\n      <td>Barah, Mr. Hanna Assi</td>\n      <td>male</td>\n      <td>20.00</td>\n      <td>0</td>\n      <td>0</td>\n      <td>2663</td>\n      <td>7.2292</td>\n      <td>NaN</td>\n      <td>C</td>\n    </tr>\n    <tr>\n      <th>766</th>\n      <td>767</td>\n      <td>0</td>\n      <td>1</td>\n      <td>Brewe, Dr. Arthur Jackson</td>\n      <td>male</td>\n      <td>NaN</td>\n      <td>0</td>\n      <td>0</td>\n      <td>112379</td>\n      <td>39.6000</td>\n      <td>NaN</td>\n      <td>C</td>\n    </tr>\n    <tr>\n      <th>773</th>\n      <td>774</td>\n      <td>0</td>\n      <td>3</td>\n      <td>Elias, Mr. Dibo</td>\n      <td>male</td>\n      <td>NaN</td>\n      <td>0</td>\n      <td>0</td>\n      <td>2674</td>\n      <td>7.2250</td>\n      <td>NaN</td>\n      <td>C</td>\n    </tr>\n    <tr>\n      <th>780</th>\n      <td>781</td>\n      <td>1</td>\n      <td>3</td>\n      <td>Ayoub, Miss. Banoura</td>\n      <td>female</td>\n      <td>13.00</td>\n      <td>0</td>\n      <td>0</td>\n      <td>2687</td>\n      <td>7.2292</td>\n      <td>NaN</td>\n      <td>C</td>\n    </tr>\n    <tr>\n      <th>789</th>\n      <td>790</td>\n      <td>0</td>\n      <td>1</td>\n      <td>Guggenheim, Mr. Benjamin</td>\n      <td>male</td>\n      <td>46.00</td>\n      <td>0</td>\n      <td>0</td>\n      <td>PC 17593</td>\n      <td>79.2000</td>\n      <td>B82 B84</td>\n      <td>C</td>\n    </tr>\n    <tr>\n      <th>793</th>\n      <td>794</td>\n      <td>0</td>\n      <td>1</td>\n      <td>Hoyt, Mr. William Fisher</td>\n      <td>male</td>\n      <td>NaN</td>\n      <td>0</td>\n      <td>0</td>\n      <td>PC 17600</td>\n      <td>30.6958</td>\n      <td>NaN</td>\n      <td>C</td>\n    </tr>\n    <tr>\n      <th>798</th>\n      <td>799</td>\n      <td>0</td>\n      <td>3</td>\n      <td>Ibrahim Shawah, Mr. Yousseff</td>\n      <td>male</td>\n      <td>30.00</td>\n      <td>0</td>\n      <td>0</td>\n      <td>2685</td>\n      <td>7.2292</td>\n      <td>NaN</td>\n      <td>C</td>\n    </tr>\n    <tr>\n      <th>803</th>\n      <td>804</td>\n      <td>1</td>\n      <td>3</td>\n      <td>Thomas, Master. Assad Alexander</td>\n      <td>male</td>\n      <td>0.42</td>\n      <td>0</td>\n      <td>1</td>\n      <td>2625</td>\n      <td>8.5167</td>\n      <td>NaN</td>\n      <td>C</td>\n    </tr>\n    <tr>\n      <th>817</th>\n      <td>818</td>\n      <td>0</td>\n      <td>2</td>\n      <td>Mallet, Mr. Albert</td>\n      <td>male</td>\n      <td>31.00</td>\n      <td>1</td>\n      <td>1</td>\n      <td>S.C./PARIS 2079</td>\n      <td>37.0042</td>\n      <td>NaN</td>\n      <td>C</td>\n    </tr>\n    <tr>\n      <th>827</th>\n      <td>828</td>\n      <td>1</td>\n      <td>2</td>\n      <td>Mallet, Master. Andre</td>\n      <td>male</td>\n      <td>1.00</td>\n      <td>0</td>\n      <td>2</td>\n      <td>S.C./PARIS 2079</td>\n      <td>37.0042</td>\n      <td>NaN</td>\n      <td>C</td>\n    </tr>\n    <tr>\n      <th>830</th>\n      <td>831</td>\n      <td>1</td>\n      <td>3</td>\n      <td>Yasbeck, Mrs. Antoni (Selini Alexander)</td>\n      <td>female</td>\n      <td>15.00</td>\n      <td>1</td>\n      <td>0</td>\n      <td>2659</td>\n      <td>14.4542</td>\n      <td>NaN</td>\n      <td>C</td>\n    </tr>\n    <tr>\n      <th>832</th>\n      <td>833</td>\n      <td>0</td>\n      <td>3</td>\n      <td>Saad, Mr. Amin</td>\n      <td>male</td>\n      <td>NaN</td>\n      <td>0</td>\n      <td>0</td>\n      <td>2671</td>\n      <td>7.2292</td>\n      <td>NaN</td>\n      <td>C</td>\n    </tr>\n    <tr>\n      <th>835</th>\n      <td>836</td>\n      <td>1</td>\n      <td>1</td>\n      <td>Compton, Miss. Sara Rebecca</td>\n      <td>female</td>\n      <td>39.00</td>\n      <td>1</td>\n      <td>1</td>\n      <td>PC 17756</td>\n      <td>83.1583</td>\n      <td>E49</td>\n      <td>C</td>\n    </tr>\n    <tr>\n      <th>839</th>\n      <td>840</td>\n      <td>1</td>\n      <td>1</td>\n      <td>Marechal, Mr. Pierre</td>\n      <td>male</td>\n      <td>NaN</td>\n      <td>0</td>\n      <td>0</td>\n      <td>11774</td>\n      <td>29.7000</td>\n      <td>C47</td>\n      <td>C</td>\n    </tr>\n    <tr>\n      <th>842</th>\n      <td>843</td>\n      <td>1</td>\n      <td>1</td>\n      <td>Serepeca, Miss. Augusta</td>\n      <td>female</td>\n      <td>30.00</td>\n      <td>0</td>\n      <td>0</td>\n      <td>113798</td>\n      <td>31.0000</td>\n      <td>NaN</td>\n      <td>C</td>\n    </tr>\n    <tr>\n      <th>843</th>\n      <td>844</td>\n      <td>0</td>\n      <td>3</td>\n      <td>Lemberopolous, Mr. Peter L</td>\n      <td>male</td>\n      <td>34.50</td>\n      <td>0</td>\n      <td>0</td>\n      <td>2683</td>\n      <td>6.4375</td>\n      <td>NaN</td>\n      <td>C</td>\n    </tr>\n    <tr>\n      <th>847</th>\n      <td>848</td>\n      <td>0</td>\n      <td>3</td>\n      <td>Markoff, Mr. Marin</td>\n      <td>male</td>\n      <td>35.00</td>\n      <td>0</td>\n      <td>0</td>\n      <td>349213</td>\n      <td>7.8958</td>\n      <td>NaN</td>\n      <td>C</td>\n    </tr>\n    <tr>\n      <th>849</th>\n      <td>850</td>\n      <td>1</td>\n      <td>1</td>\n      <td>Goldenberg, Mrs. Samuel L (Edwiga Grabowska)</td>\n      <td>female</td>\n      <td>NaN</td>\n      <td>1</td>\n      <td>0</td>\n      <td>17453</td>\n      <td>89.1042</td>\n      <td>C92</td>\n      <td>C</td>\n    </tr>\n    <tr>\n      <th>852</th>\n      <td>853</td>\n      <td>0</td>\n      <td>3</td>\n      <td>Boulos, Miss. Nourelain</td>\n      <td>female</td>\n      <td>9.00</td>\n      <td>1</td>\n      <td>1</td>\n      <td>2678</td>\n      <td>15.2458</td>\n      <td>NaN</td>\n      <td>C</td>\n    </tr>\n    <tr>\n      <th>858</th>\n      <td>859</td>\n      <td>1</td>\n      <td>3</td>\n      <td>Baclini, Mrs. Solomon (Latifa Qurban)</td>\n      <td>female</td>\n      <td>24.00</td>\n      <td>0</td>\n      <td>3</td>\n      <td>2666</td>\n      <td>19.2583</td>\n      <td>NaN</td>\n      <td>C</td>\n    </tr>\n    <tr>\n      <th>859</th>\n      <td>860</td>\n      <td>0</td>\n      <td>3</td>\n      <td>Razi, Mr. Raihed</td>\n      <td>male</td>\n      <td>NaN</td>\n      <td>0</td>\n      <td>0</td>\n      <td>2629</td>\n      <td>7.2292</td>\n      <td>NaN</td>\n      <td>C</td>\n    </tr>\n    <tr>\n      <th>866</th>\n      <td>867</td>\n      <td>1</td>\n      <td>2</td>\n      <td>Duran y More, Miss. Asuncion</td>\n      <td>female</td>\n      <td>27.00</td>\n      <td>1</td>\n      <td>0</td>\n      <td>SC/PARIS 2149</td>\n      <td>13.8583</td>\n      <td>NaN</td>\n      <td>C</td>\n    </tr>\n    <tr>\n      <th>874</th>\n      <td>875</td>\n      <td>1</td>\n      <td>2</td>\n      <td>Abelson, Mrs. Samuel (Hannah Wizosky)</td>\n      <td>female</td>\n      <td>28.00</td>\n      <td>1</td>\n      <td>0</td>\n      <td>P/PP 3381</td>\n      <td>24.0000</td>\n      <td>NaN</td>\n      <td>C</td>\n    </tr>\n    <tr>\n      <th>875</th>\n      <td>876</td>\n      <td>1</td>\n      <td>3</td>\n      <td>Najib, Miss. Adele Kiamie \"Jane\"</td>\n      <td>female</td>\n      <td>15.00</td>\n      <td>0</td>\n      <td>0</td>\n      <td>2667</td>\n      <td>7.2250</td>\n      <td>NaN</td>\n      <td>C</td>\n    </tr>\n    <tr>\n      <th>879</th>\n      <td>880</td>\n      <td>1</td>\n      <td>1</td>\n      <td>Potter, Mrs. Thomas Jr (Lily Alexenia Wilson)</td>\n      <td>female</td>\n      <td>56.00</td>\n      <td>0</td>\n      <td>1</td>\n      <td>11767</td>\n      <td>83.1583</td>\n      <td>C50</td>\n      <td>C</td>\n    </tr>\n    <tr>\n      <th>889</th>\n      <td>890</td>\n      <td>1</td>\n      <td>1</td>\n      <td>Behr, Mr. Karl Howell</td>\n      <td>male</td>\n      <td>26.00</td>\n      <td>0</td>\n      <td>0</td>\n      <td>111369</td>\n      <td>30.0000</td>\n      <td>C148</td>\n      <td>C</td>\n    </tr>\n  </tbody>\n</table>\n<p>168 rows × 12 columns</p>\n</div>"
     },
     "metadata": {},
     "execution_count": 141
    }
   ],
   "source": [
    "grouped=df.groupby('Sex')\n",
    "print(grouped.count())\n",
    "grouped=df.groupby(('Sex','Embarked'))\n",
    "print(grouped.count())\n",
    "df.groupby(['Embarked']).get_group(\"C\")"
   ]
  }
 ]
}