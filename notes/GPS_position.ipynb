{
 "metadata": {
  "language_info": {
   "codemirror_mode": {
    "name": "ipython",
    "version": 3
   },
   "file_extension": ".py",
   "mimetype": "text/x-python",
   "name": "python",
   "nbconvert_exporter": "python",
   "pygments_lexer": "ipython3",
   "version": "3.7.3"
  },
  "orig_nbformat": 2,
  "kernelspec": {
   "name": "python373jvsc74a57bd0b3ba2566441a7c06988d0923437866b63cedc61552a5af99d1f4fb67d367b25f",
   "display_name": "Python 3.7.3 64-bit (conda)"
  }
 },
 "nbformat": 4,
 "nbformat_minor": 2,
 "cells": [
  {
   "cell_type": "code",
   "execution_count": 7,
   "metadata": {},
   "outputs": [],
   "source": [
    "from geopy.geocoders import Nominatim\n",
    "'''\n",
    "geopy是一个关于地理编码的python库。主要有以下几个功能：(需要联网)\n",
    "\n",
    "地理编码：将字符串转换为地理位置\n",
    "逆地理编码：用于将地理坐标转换为具体地址   每日有次数限制\n",
    "计算两个点的距离：经纬度距离和球面距离\n",
    "文档地址：https://www.osgeo.cn/geopy/\n",
    "'''\n",
    "from functools import partial"
   ]
  },
  {
   "cell_type": "code",
   "execution_count": 2,
   "metadata": {},
   "outputs": [
    {
     "output_type": "stream",
     "name": "stdout",
     "text": [
      "Flatiron Building, 175, 5th Avenue, Flatiron District, Manhattan, New York County, New York, 10010, United States\n(40.741059199999995, -73.98964162240998)\n{'place_id': 154649554, 'licence': 'Data © OpenStreetMap contributors, ODbL 1.0. https://osm.org/copyright', 'osm_type': 'way', 'osm_id': 264768896, 'boundingbox': ['40.7407566', '40.7413004', '-73.9898715', '-73.9895014'], 'lat': '40.741059199999995', 'lon': '-73.98964162240998', 'display_name': 'Flatiron Building, 175, 5th Avenue, Flatiron District, Manhattan, New York County, New York, 10010, United States', 'class': 'tourism', 'type': 'attraction', 'importance': 0.7405988542685404, 'icon': 'https://nominatim.openstreetmap.org/ui/mapicons//poi_point_of_interest.p.20.png'}\n"
     ]
    }
   ],
   "source": [
    "geolocator = Nominatim(user_agent=\"aaa515\")\n",
    "location = geolocator.geocode(\"175 5th Avenue NYC\")\n",
    "geocode = partial(geolocator.geocode, language=\"es\")\n",
    "print(location.address)\n",
    "print((location.latitude, location.longitude))\n",
    "print(location.raw)"
   ]
  },
  {
   "cell_type": "code",
   "execution_count": 15,
   "metadata": {},
   "outputs": [
    {
     "output_type": "stream",
     "name": "stdout",
     "text": [
      "天安门广场, 西交民巷, 东城区, 北京市, 100032, 中国\n(39.90272175, 116.39144087676334)\n{'place_id': 258253935, 'licence': 'Data © OpenStreetMap contributors, ODbL 1.0. https://osm.org/copyright', 'osm_type': 'relation', 'osm_id': 941596, 'boundingbox': ['39.8988884', '39.9058312', '116.3896532', '116.3932766'], 'lat': '39.90272175', 'lon': '116.39144087676334', 'display_name': '天安门广场, 西交民巷, 东城区, 北京市, 100032, 中国', 'class': 'tourism', 'type': 'attraction', 'importance': 0.596660556787456, 'icon': 'https://nominatim.openstreetmap.org/ui/mapicons//poi_point_of_interest.p.20.png'}\n"
     ]
    }
   ],
   "source": [
    "geocode = partial(geolocator.geocode, language=\"zh\")#指定语言为中文\n",
    "'''\n",
    "地理编码方法接受许多不同的参数，您可能希望只指定其中一些参数一次\n",
    "这很容易用Python实现 functools.partial() \n",
    "\n",
    "'''\n",
    "location = geolocator.geocode(\"天安门广场\")\n",
    "print(location.address)\n",
    "print((location.latitude, location.longitude))\n",
    "print(location.raw)"
   ]
  },
  {
   "cell_type": "code",
   "execution_count": 14,
   "metadata": {},
   "outputs": [
    {
     "output_type": "stream",
     "name": "stdout",
     "text": [
      "大华路, 大场镇, 宝山区, 200436, 中国\n(31.28859522202761, 121.4117297905275)\n{'place_id': 229915617, 'licence': 'Data © OpenStreetMap contributors, ODbL 1.0. https://osm.org/copyright', 'osm_type': 'way', 'osm_id': 686457557, 'lat': '31.28859522202761', 'lon': '121.4117297905275', 'display_name': '大华路, 大场镇, 宝山区, 200436, 中国', 'address': {'road': '大华路', 'town': '大场镇', 'city': '宝山区', 'postcode': '200436', 'country': '中国', 'country_code': 'cn'}, 'boundingbox': ['31.285673', '31.2897582', '121.4115967', '121.4120713']}\n"
     ]
    }
   ],
   "source": [
    "# 逆地理编码：用于将地理坐标转换为具体地址\n",
    "location = geolocator.reverse(\"31.288629, 121.412\")\n",
    "print(location.address)\n",
    "print((location.latitude, location.longitude))\n",
    "print(location.raw)"
   ]
  },
  {
   "cell_type": "code",
   "execution_count": null,
   "metadata": {},
   "outputs": [],
   "source": []
  }
 ]
}